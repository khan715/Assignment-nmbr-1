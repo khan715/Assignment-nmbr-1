{
 "cells": [
  {
   "cell_type": "markdown",
   "id": "a9ef8c95-17e4-4c5f-805b-59bac966856e",
   "metadata": {},
   "source": [
    "#### Assignment Number One"
   ]
  },
  {
   "cell_type": "code",
   "execution_count": 4,
   "id": "5ca3a51e-9d2c-4a68-be58-fba33f2b3aea",
   "metadata": {},
   "outputs": [],
   "source": [
    "salaries = ['20k', '40k', '50k', '60k', '35k', '89k','40k']"
   ]
  },
  {
   "cell_type": "markdown",
   "id": "a2de21c8-75f7-48a1-b3dc-b538ee30bb4f",
   "metadata": {},
   "source": [
    "#### 1. What is the length of the salaries list."
   ]
  },
  {
   "cell_type": "code",
   "execution_count": 7,
   "id": "f75b8136-9852-4f36-9188-a06da116c27d",
   "metadata": {},
   "outputs": [
    {
     "data": {
      "text/plain": [
       "7"
      ]
     },
     "execution_count": 7,
     "metadata": {},
     "output_type": "execute_result"
    }
   ],
   "source": [
    "len(salaries)"
   ]
  },
  {
   "cell_type": "markdown",
   "id": "03609d12-fb65-419d-acba-c496da160298",
   "metadata": {},
   "source": [
    "#### 2. Retrieve the third salary in the list by using index."
   ]
  },
  {
   "cell_type": "code",
   "execution_count": 10,
   "id": "38309c95-5f67-433c-ab89-81fee7298479",
   "metadata": {},
   "outputs": [
    {
     "data": {
      "text/plain": [
       "['20k', '40k', '50k', '60k', '35k', '89k', '40k']"
      ]
     },
     "execution_count": 10,
     "metadata": {},
     "output_type": "execute_result"
    }
   ],
   "source": [
    "salaries"
   ]
  },
  {
   "cell_type": "code",
   "execution_count": 12,
   "id": "b72bdefe-6b74-4864-970b-8b58721c184d",
   "metadata": {},
   "outputs": [
    {
     "data": {
      "text/plain": [
       "'60k'"
      ]
     },
     "execution_count": 12,
     "metadata": {},
     "output_type": "execute_result"
    }
   ],
   "source": [
    "salaries[3]"
   ]
  },
  {
   "cell_type": "markdown",
   "id": "4ad79f65-8169-4169-ba8e-2ca866238272",
   "metadata": {},
   "source": [
    "#### 3. Extract the last salary from the list by using a negative index."
   ]
  },
  {
   "cell_type": "code",
   "execution_count": 15,
   "id": "848813cb-8207-43d2-b9d0-072fb8cdb3e8",
   "metadata": {},
   "outputs": [
    {
     "data": {
      "text/plain": [
       "['20k', '40k', '50k', '60k', '35k', '89k', '40k']"
      ]
     },
     "execution_count": 15,
     "metadata": {},
     "output_type": "execute_result"
    }
   ],
   "source": [
    "salaries"
   ]
  },
  {
   "cell_type": "code",
   "execution_count": 17,
   "id": "f420ed1d-a950-44e1-9be2-8f6a4605942b",
   "metadata": {},
   "outputs": [
    {
     "data": {
      "text/plain": [
       "'40k'"
      ]
     },
     "execution_count": 17,
     "metadata": {},
     "output_type": "execute_result"
    }
   ],
   "source": [
    "salaries[-1]"
   ]
  },
  {
   "cell_type": "markdown",
   "id": "4b0c183e-f40f-4e82-94ad-9d9ace5a3ad9",
   "metadata": {},
   "source": [
    "#### 4. Slice the salaries list to get only the middle three salaries."
   ]
  },
  {
   "cell_type": "code",
   "execution_count": 22,
   "id": "a451b1f1-dbf7-4298-9765-c0a95a0ccbc7",
   "metadata": {},
   "outputs": [
    {
     "data": {
      "text/plain": [
       "['20k', '40k', '50k', '60k', '35k', '89k', '40k']"
      ]
     },
     "execution_count": 22,
     "metadata": {},
     "output_type": "execute_result"
    }
   ],
   "source": [
    "salaries"
   ]
  },
  {
   "cell_type": "code",
   "execution_count": 24,
   "id": "123e04da-9ee1-42f6-8b92-58a060146439",
   "metadata": {},
   "outputs": [
    {
     "data": {
      "text/plain": [
       "['50k', '60k', '35k']"
      ]
     },
     "execution_count": 24,
     "metadata": {},
     "output_type": "execute_result"
    }
   ],
   "source": [
    "salaries[2:5]"
   ]
  },
  {
   "cell_type": "code",
   "execution_count": 26,
   "id": "c91d3a36-2939-4ca6-ab95-92e9c293dedc",
   "metadata": {},
   "outputs": [
    {
     "data": {
      "text/plain": [
       "['50k', '60k', '35k']"
      ]
     },
     "execution_count": 26,
     "metadata": {},
     "output_type": "execute_result"
    }
   ],
   "source": [
    "salaries[2:-2]"
   ]
  },
  {
   "cell_type": "markdown",
   "id": "9b35d9b5-a81a-4dc4-a16c-ccab328dd042",
   "metadata": {},
   "source": [
    "#### 5. Add a new salary to the list, ‘100k’ by using append() method."
   ]
  },
  {
   "cell_type": "code",
   "execution_count": 29,
   "id": "3c391d8b-8300-4a47-bb83-2ee9ec00527a",
   "metadata": {},
   "outputs": [
    {
     "data": {
      "text/plain": [
       "['20k', '40k', '50k', '60k', '35k', '89k', '40k']"
      ]
     },
     "execution_count": 29,
     "metadata": {},
     "output_type": "execute_result"
    }
   ],
   "source": [
    "salaries"
   ]
  },
  {
   "cell_type": "code",
   "execution_count": 33,
   "id": "0d07a723-419d-4389-8960-e165edbdc2c6",
   "metadata": {},
   "outputs": [],
   "source": [
    "salaries.append('100k')"
   ]
  },
  {
   "cell_type": "code",
   "execution_count": 35,
   "id": "f50df31c-ea8d-4fbd-aeed-8a70930bc6db",
   "metadata": {},
   "outputs": [
    {
     "data": {
      "text/plain": [
       "['20k', '40k', '50k', '60k', '35k', '89k', '40k', '100k']"
      ]
     },
     "execution_count": 35,
     "metadata": {},
     "output_type": "execute_result"
    }
   ],
   "source": [
    "salaries"
   ]
  },
  {
   "cell_type": "markdown",
   "id": "eecb73e1-4319-48a0-bf19-d36275f3a9e2",
   "metadata": {},
   "source": [
    "#### 5. Add a new salary to the list, ‘120k’ without method."
   ]
  },
  {
   "cell_type": "code",
   "execution_count": 46,
   "id": "ab765d88-68b2-4267-82b8-7e73dbd2defe",
   "metadata": {},
   "outputs": [],
   "source": [
    "salaries = ['20k', '40k', '50k', '60k', '35k', '89k','40k','100k','120k']"
   ]
  },
  {
   "cell_type": "code",
   "execution_count": 48,
   "id": "bee499a9-1293-404b-ad9f-f102e6d05d35",
   "metadata": {},
   "outputs": [
    {
     "data": {
      "text/plain": [
       "['20k', '40k', '50k', '60k', '35k', '89k', '40k', '100k', '120k']"
      ]
     },
     "execution_count": 48,
     "metadata": {},
     "output_type": "execute_result"
    }
   ],
   "source": [
    "salaries"
   ]
  },
  {
   "cell_type": "markdown",
   "id": "292841b2-c473-438f-871c-2748fdd42545",
   "metadata": {},
   "source": [
    "#### 6. Replace the third salary in the list with '55k' and print the updated list."
   ]
  },
  {
   "cell_type": "code",
   "execution_count": 52,
   "id": "77ca908d-e367-4f7a-80a9-c0240a1c960e",
   "metadata": {},
   "outputs": [
    {
     "data": {
      "text/plain": [
       "['20k', '40k', '50k', '60k', '35k', '89k', '40k', '100k', '120k']"
      ]
     },
     "execution_count": 52,
     "metadata": {},
     "output_type": "execute_result"
    }
   ],
   "source": [
    "salaries"
   ]
  },
  {
   "cell_type": "code",
   "execution_count": 54,
   "id": "91679a33-1a90-44f7-a906-9b8e23ca4b15",
   "metadata": {},
   "outputs": [],
   "source": [
    "salaries[3]=('55k')"
   ]
  },
  {
   "cell_type": "code",
   "execution_count": 56,
   "id": "fe08eac4-a181-46df-a167-09b8ad6e9155",
   "metadata": {},
   "outputs": [
    {
     "data": {
      "text/plain": [
       "['20k', '40k', '50k', '55k', '35k', '89k', '40k', '100k', '120k']"
      ]
     },
     "execution_count": 56,
     "metadata": {},
     "output_type": "execute_result"
    }
   ],
   "source": [
    "salaries"
   ]
  },
  {
   "cell_type": "markdown",
   "id": "7d722daf-cc65-4c5e-b229-2a1b66cbfc55",
   "metadata": {},
   "source": [
    "#### 7. Count how many times '40k' appears in the list."
   ]
  },
  {
   "cell_type": "code",
   "execution_count": 59,
   "id": "69454845-5e91-430e-bbc4-1505de8c5cc3",
   "metadata": {},
   "outputs": [
    {
     "data": {
      "text/plain": [
       "['20k', '40k', '50k', '55k', '35k', '89k', '40k', '100k', '120k']"
      ]
     },
     "execution_count": 59,
     "metadata": {},
     "output_type": "execute_result"
    }
   ],
   "source": [
    "salaries"
   ]
  },
  {
   "cell_type": "code",
   "execution_count": 61,
   "id": "01c8dff0-e509-4f0b-bb3e-787d9dfec3a2",
   "metadata": {},
   "outputs": [
    {
     "data": {
      "text/plain": [
       "2"
      ]
     },
     "execution_count": 61,
     "metadata": {},
     "output_type": "execute_result"
    }
   ],
   "source": [
    "salaries.count('40k')"
   ]
  },
  {
   "cell_type": "markdown",
   "id": "22fe9fbd-7a12-42d4-a3d2-8b0f7b37d2b8",
   "metadata": {},
   "source": [
    "#### 8. Insert a new salary at the second position."
   ]
  },
  {
   "cell_type": "code",
   "execution_count": 64,
   "id": "90a90ebd-4d77-4768-a773-c5b88f35d05d",
   "metadata": {},
   "outputs": [
    {
     "data": {
      "text/plain": [
       "['20k', '40k', '50k', '55k', '35k', '89k', '40k', '100k', '120k']"
      ]
     },
     "execution_count": 64,
     "metadata": {},
     "output_type": "execute_result"
    }
   ],
   "source": [
    "salaries"
   ]
  },
  {
   "cell_type": "code",
   "execution_count": 66,
   "id": "36ce318f-64e8-4437-8c07-31f00e408cc7",
   "metadata": {},
   "outputs": [],
   "source": [
    "salaries.insert(2,'45k')"
   ]
  },
  {
   "cell_type": "code",
   "execution_count": 68,
   "id": "305aa5a2-5d21-413a-a798-946d347fb87b",
   "metadata": {},
   "outputs": [
    {
     "data": {
      "text/plain": [
       "['20k', '40k', '45k', '50k', '55k', '35k', '89k', '40k', '100k', '120k']"
      ]
     },
     "execution_count": 68,
     "metadata": {},
     "output_type": "execute_result"
    }
   ],
   "source": [
    "salaries"
   ]
  },
  {
   "cell_type": "markdown",
   "id": "62735402-e4c0-4c68-bf9d-a0d16c79f40e",
   "metadata": {},
   "source": [
    "#### 9. Reverse the order of the salaries list with method."
   ]
  },
  {
   "cell_type": "code",
   "execution_count": 73,
   "id": "5442cfae-4638-4f1b-b1e4-fbb318b0576c",
   "metadata": {},
   "outputs": [
    {
     "data": {
      "text/plain": [
       "['20k', '40k', '45k', '50k', '55k', '35k', '89k', '40k', '100k', '120k']"
      ]
     },
     "execution_count": 73,
     "metadata": {},
     "output_type": "execute_result"
    }
   ],
   "source": [
    "salaries"
   ]
  },
  {
   "cell_type": "code",
   "execution_count": 77,
   "id": "166b1e67-e37e-4870-a01c-c92fdccf80d5",
   "metadata": {},
   "outputs": [],
   "source": [
    "salaries.reverse()"
   ]
  },
  {
   "cell_type": "code",
   "execution_count": 79,
   "id": "38cff1be-bbe3-4d38-a586-81947b9c0d16",
   "metadata": {},
   "outputs": [
    {
     "data": {
      "text/plain": [
       "['120k', '100k', '40k', '89k', '35k', '55k', '50k', '45k', '40k', '20k']"
      ]
     },
     "execution_count": 79,
     "metadata": {},
     "output_type": "execute_result"
    }
   ],
   "source": [
    "salaries"
   ]
  },
  {
   "cell_type": "markdown",
   "id": "6dbbfd89-eddd-4258-a359-f53252d7af98",
   "metadata": {},
   "source": [
    "#### 10. Reverse the order of the salaries list without method."
   ]
  },
  {
   "cell_type": "code",
   "execution_count": 82,
   "id": "fae6b0be-2962-4969-9a9d-18154426bf03",
   "metadata": {},
   "outputs": [],
   "source": [
    "salaries = ['20k', '40k', '45k', '50k', '55k', '35k', '89k', '40k', '100k', '120k']"
   ]
  },
  {
   "cell_type": "code",
   "execution_count": 86,
   "id": "df0afeba-2d0a-488f-a0c2-7bff8b48a5cb",
   "metadata": {},
   "outputs": [
    {
     "data": {
      "text/plain": [
       "['20k', '40k', '45k', '50k', '55k', '35k', '89k', '40k', '100k', '120k']"
      ]
     },
     "execution_count": 86,
     "metadata": {},
     "output_type": "execute_result"
    }
   ],
   "source": [
    "salaries"
   ]
  },
  {
   "cell_type": "code",
   "execution_count": null,
   "id": "267d55ef-f265-4bed-b9b1-a4bbfdd3352a",
   "metadata": {},
   "outputs": [],
   "source": []
  }
 ],
 "metadata": {
  "kernelspec": {
   "display_name": "Python 3 (ipykernel)",
   "language": "python",
   "name": "python3"
  },
  "language_info": {
   "codemirror_mode": {
    "name": "ipython",
    "version": 3
   },
   "file_extension": ".py",
   "mimetype": "text/x-python",
   "name": "python",
   "nbconvert_exporter": "python",
   "pygments_lexer": "ipython3",
   "version": "3.12.7"
  }
 },
 "nbformat": 4,
 "nbformat_minor": 5
}
