{
 "cells": [
  {
   "cell_type": "markdown",
   "id": "223a5bb8-6217-49fb-8d67-87bcf280a3c0",
   "metadata": {},
   "source": [
    "#### Question 1: Age Group Classification"
   ]
  },
  {
   "cell_type": "code",
   "execution_count": 8,
   "id": "e6990a96-7500-4876-ab34-67fe6459eeea",
   "metadata": {},
   "outputs": [
    {
     "name": "stdin",
     "output_type": "stream",
     "text": [
      "Enter your age 20\n"
     ]
    },
    {
     "name": "stdout",
     "output_type": "stream",
     "text": [
      "Adult\n"
     ]
    }
   ],
   "source": [
    "age = int(input(\"Enter your age\"))\n",
    "if age <= 12 and age >= 0:\n",
    "    print(\"Child\")\n",
    "elif age <= 19 and age >= 13:\n",
    "    print(\"Teenager\")\n",
    "elif age <= 64 and age >= 20:\n",
    "    print(\"Adult\")\n",
    "else:\n",
    "    print(\"Senior\")"
   ]
  },
  {
   "cell_type": "markdown",
   "id": "79899fe9-c39e-48b9-ab75-7168bc4a67e6",
   "metadata": {},
   "source": [
    "#### Question 2: Checking for Eligibility for Discount"
   ]
  },
  {
   "cell_type": "code",
   "execution_count": 51,
   "id": "93833b05-4618-4d16-9215-e4047da4b181",
   "metadata": {},
   "outputs": [
    {
     "name": "stdin",
     "output_type": "stream",
     "text": [
      "Enter your membership status premium\n",
      "Enter your purchase amooun 12500.78\n"
     ]
    },
    {
     "name": "stdout",
     "output_type": "stream",
     "text": [
      "Eligible for discount\n"
     ]
    }
   ],
   "source": [
    "membership_status = input(\"Enter your membership status\")\n",
    "purchase_amount = float(input(\"Enter your purchase amooun\"))\n",
    "if membership_status == \"premium\" and purchase_amount >=1000 or \\\n",
    "   membership_status == \"regular\" and purchase_amount >= 2000:\n",
    "    print(\"Eligible for discount\")\n",
    "else:\n",
    "    print(\"Not Eligible for discount\")"
   ]
  },
  {
   "cell_type": "markdown",
   "id": "58ed4f09-03e9-4b5b-a426-3be6f5e3738f",
   "metadata": {},
   "source": [
    "#### Question 3: Voting Eligibility Check"
   ]
  },
  {
   "cell_type": "code",
   "execution_count": 58,
   "id": "29144ea8-be25-46ed-a768-41d969002bf0",
   "metadata": {},
   "outputs": [
    {
     "name": "stdin",
     "output_type": "stream",
     "text": [
      "Enter you age: 19\n",
      "Enter your Citizenship status: non citizen\n"
     ]
    },
    {
     "name": "stdout",
     "output_type": "stream",
     "text": [
      "Not eligible to vote\n"
     ]
    }
   ],
   "source": [
    "age = int(input(\"Enter you age:\"))\n",
    "citizenship_status  = str(input(\"Enter your Citizenship status:\"))\n",
    "if age >= 18 and citizenship_status == \"citizen\" or\\\n",
    "   age <= 18 and age >= 16 and citizenship_status == \"citizen\":\n",
    "    print(\"eligible to vote\")\n",
    "else:\n",
    "    print(\"Not eligible to vote\")\n",
    "   "
   ]
  },
  {
   "cell_type": "markdown",
   "id": "ed884d3d-0623-44e8-b8b8-2908969f72ba",
   "metadata": {},
   "source": [
    "#### Question 4: Employee Salary Bonus Eligibility"
   ]
  },
  {
   "cell_type": "code",
   "execution_count": 73,
   "id": "75f7f0a7-cce3-4d0d-8b84-a7d3a0b7e57e",
   "metadata": {},
   "outputs": [
    {
     "name": "stdin",
     "output_type": "stream",
     "text": [
      "Enter your performance rating: satisfactory\n",
      "Enter your years of service: 17\n"
     ]
    },
    {
     "name": "stdout",
     "output_type": "stream",
     "text": [
      "Eligible for bonus\n"
     ]
    }
   ],
   "source": [
    "performance_rating = input(\"Enter your performance rating:\")\n",
    "years_of_service = int(input(\"Enter your years of service:\"))\n",
    "if performance_rating == \"excellent\" and years_of_service>=5 and\\\n",
    "   performance_rating == \"good\" and years_of_service>=10 or\\\n",
    "   performance_rating == \"satisfactory\" and years_of_service>=15:\n",
    "    print(\"Eligible for bonus\")\n",
    "else:\n",
    "    print(\"Not Eligible for bonus\")"
   ]
  },
  {
   "cell_type": "markdown",
   "id": "841d40cd-990f-4dd5-9b83-90b5bb8c41d7",
   "metadata": {},
   "source": [
    "##### Question 5. Write a program that replaces spaces with underscores, counts how many underscores are\n",
    "there, and finds the position of the first underscore.\n",
    "Use text: \"I'm learning Python programming\"?"
   ]
  },
  {
   "cell_type": "code",
   "execution_count": 77,
   "id": "3869149f-8db2-40ad-af55-91f23e7bf365",
   "metadata": {},
   "outputs": [],
   "source": [
    "text = (\"I'm learning Python programming\")"
   ]
  },
  {
   "cell_type": "code",
   "execution_count": 85,
   "id": "8176a0e9-c058-447f-8311-1a2b079618a1",
   "metadata": {},
   "outputs": [
    {
     "data": {
      "text/plain": [
       "\"I'm_learning_Python_programming\""
      ]
     },
     "execution_count": 85,
     "metadata": {},
     "output_type": "execute_result"
    }
   ],
   "source": [
    "text.replace(\" \",\"_\")"
   ]
  },
  {
   "cell_type": "code",
   "execution_count": 89,
   "id": "97f1ccbd-c958-4c08-a5ed-f79d9d833985",
   "metadata": {},
   "outputs": [],
   "source": [
    "underscore_text = (\"I'm_learning_Python_programming\")"
   ]
  },
  {
   "cell_type": "code",
   "execution_count": 91,
   "id": "029c011b-7da5-40dd-a11f-555db708dbb5",
   "metadata": {},
   "outputs": [
    {
     "data": {
      "text/plain": [
       "3"
      ]
     },
     "execution_count": 91,
     "metadata": {},
     "output_type": "execute_result"
    }
   ],
   "source": [
    "underscore_text.index(\"_\")"
   ]
  },
  {
   "cell_type": "code",
   "execution_count": 101,
   "id": "7010283a-fa5d-4489-b055-1fd73ddfd03d",
   "metadata": {},
   "outputs": [
    {
     "data": {
      "text/plain": [
       "3"
      ]
     },
     "execution_count": 101,
     "metadata": {},
     "output_type": "execute_result"
    }
   ],
   "source": [
    "underscore_text.find(\"_\")"
   ]
  },
  {
   "cell_type": "markdown",
   "id": "d8e3dbad-4392-4a92-8ac6-b68e4fe18ed7",
   "metadata": {},
   "source": [
    "#### Question 6:\n",
    "Write a Python program that:\n"
   ]
  },
  {
   "cell_type": "code",
   "execution_count": 112,
   "id": "2d247576-39bc-48f7-a0fd-f793817a7a17",
   "metadata": {},
   "outputs": [
    {
     "name": "stdin",
     "output_type": "stream",
     "text": [
      "Enter your string: im learning python\n"
     ]
    },
    {
     "name": "stdout",
     "output_type": "stream",
     "text": [
      "string except the last 3 character: im learning pyt\n",
      "every second character: i erigpto\n",
      "string in reverse:  nohtyp gninrael mi\n"
     ]
    }
   ],
   "source": [
    "string = input(\"Enter your string:\")\n",
    "print(\"string except the last 3 character:\",string[:-3])\n",
    "print(\"every second character:\",string[::2])\n",
    "print(\"string in reverse: \",string[::-1])"
   ]
  },
  {
   "cell_type": "markdown",
   "id": "5a013990-2b80-4acb-b328-22486f6f0fd3",
   "metadata": {},
   "source": [
    "#### Question 7. Given a sentence, you need to reverse the order of the words in the sentence while\n",
    "preserving their original capitalization and spaces.\n",
    "Use text : \"Hello World, We are learning Python\"\n"
   ]
  },
  {
   "cell_type": "code",
   "execution_count": 147,
   "id": "13f21d12-ed2c-466b-a145-2318baf61267",
   "metadata": {},
   "outputs": [],
   "source": [
    "text = (\"Hello World, We are learning Python\")"
   ]
  },
  {
   "cell_type": "code",
   "execution_count": 151,
   "id": "57ece58f-8011-4eff-87f3-e7ffb0c78268",
   "metadata": {},
   "outputs": [],
   "source": [
    "split_text = text.split()"
   ]
  },
  {
   "cell_type": "code",
   "execution_count": 214,
   "id": "39ec5764-41c3-4a16-b7ef-237797cafff2",
   "metadata": {},
   "outputs": [],
   "source": [
    "split_text = ('Hello', 'World,', 'We', 'are', 'learning', 'Python')"
   ]
  },
  {
   "cell_type": "code",
   "execution_count": 216,
   "id": "2016b814-204a-4e85-82a5-d136f074c92c",
   "metadata": {},
   "outputs": [],
   "source": [
    "reverse_split_text = split_text[::-1]"
   ]
  },
  {
   "cell_type": "code",
   "execution_count": 218,
   "id": "7517caf1-7258-47be-abfd-a50fe5bb5d8d",
   "metadata": {},
   "outputs": [],
   "source": [
    "reverse_split_text = \" \".join(reverse_split_text) #this step is done by the help of chatgpt"
   ]
  },
  {
   "cell_type": "code",
   "execution_count": 220,
   "id": "16183d4f-90a3-4e98-b137-7a05c03cf3cb",
   "metadata": {},
   "outputs": [
    {
     "name": "stdout",
     "output_type": "stream",
     "text": [
      "Original Sentence: Hello World, We are learning Python\n",
      "Reversed Sentence: Python learning are We World, Hello\n"
     ]
    }
   ],
   "source": [
    "print(\"Original Sentence:\", text)\n",
    "print(\"Reversed Sentence:\", reverse_split_text)"
   ]
  },
  {
   "cell_type": "markdown",
   "id": "b6d04855-6eb7-417f-8a1f-34711d62d680",
   "metadata": {},
   "source": [
    "#### Question 8. You have a product code that follows the format \"SKU-12345-XYZ\". You need to:\n",
    "Remove the \"SKU-\" and the \"-XYZ\" from the product code. Extract and return the number\n"
   ]
  },
  {
   "cell_type": "code",
   "execution_count": 225,
   "id": "fb205ab0-6602-4b01-b436-c327479275d5",
   "metadata": {},
   "outputs": [],
   "source": [
    "product_code = (\"SKU-12345-XYZ\")"
   ]
  },
  {
   "cell_type": "code",
   "execution_count": 235,
   "id": "37f2b8f9-49a7-4cfc-9e7b-2d29610fb6d7",
   "metadata": {},
   "outputs": [],
   "source": [
    "number=product_code[4:-4]"
   ]
  },
  {
   "cell_type": "code",
   "execution_count": 239,
   "id": "50bef532-5b87-4351-842e-e9310da46edd",
   "metadata": {},
   "outputs": [
    {
     "name": "stdout",
     "output_type": "stream",
     "text": [
      "Extract the number: 12345\n"
     ]
    }
   ],
   "source": [
    "print(\"Extract the number:\",number)"
   ]
  },
  {
   "cell_type": "markdown",
   "id": "7242fc70-6874-441c-95c3-fce6f8bf4041",
   "metadata": {},
   "source": [
    "#### Question 9. Write a Python program to check user password has following:"
   ]
  },
  {
   "cell_type": "code",
   "execution_count": 260,
   "id": "a4c042c3-40cb-4d0e-a4ee-a709e4ea9f39",
   "metadata": {},
   "outputs": [
    {
     "name": "stdin",
     "output_type": "stream",
     "text": [
      "Enter your password:  Atifkhan@17\n"
     ]
    },
    {
     "name": "stdout",
     "output_type": "stream",
     "text": [
      "Contains uppercase characters: True\n",
      "Contains lowercase characters: True\n",
      "Contains spaces: False\n",
      "Contains special characters: True\n"
     ]
    }
   ],
   "source": [
    "password = input(\"Enter your password: \")\n",
    "\n",
    "uppercase = any(char.isupper() for char in password)\n",
    "\n",
    "lowercase = any(char.islower() for char in password)\n",
    "\n",
    "spaces = any(char.isspace() for char in password)\n",
    "\n",
    "special = any(not char.isalnum() and not char.isspace() for char in password)\n",
    "\n",
    "print(\"Contains uppercase characters:\", uppercase)\n",
    "print(\"Contains lowercase characters:\", lowercase)\n",
    "print(\"Contains spaces:\", spaces)\n",
    "print(\"Contains special characters:\", special)"
   ]
  },
  {
   "cell_type": "markdown",
   "id": "18fe5e2c-f45f-41cf-b1cf-f4576bc29ca5",
   "metadata": {},
   "source": [
    "### Question 10: Find the Longest Word"
   ]
  },
  {
   "cell_type": "code",
   "execution_count": 265,
   "id": "95639fa0-926b-4fe7-888a-30d6c76c90be",
   "metadata": {},
   "outputs": [
    {
     "name": "stdout",
     "output_type": "stream",
     "text": [
      "Longest word: programming\n"
     ]
    }
   ],
   "source": [
    "string = \"I love programming in Python\"\n",
    "\n",
    "longest_word = max(string.split(), key=len)\n",
    "\n",
    "print(\"Longest word:\", longest_word)"
   ]
  }
 ],
 "metadata": {
  "kernelspec": {
   "display_name": "Python 3 (ipykernel)",
   "language": "python",
   "name": "python3"
  },
  "language_info": {
   "codemirror_mode": {
    "name": "ipython",
    "version": 3
   },
   "file_extension": ".py",
   "mimetype": "text/x-python",
   "name": "python",
   "nbconvert_exporter": "python",
   "pygments_lexer": "ipython3",
   "version": "3.12.7"
  }
 },
 "nbformat": 4,
 "nbformat_minor": 5
}
