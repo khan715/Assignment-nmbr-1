{
 "cells": [
  {
   "cell_type": "code",
   "execution_count": 19,
   "id": "7610f7c5-bf4f-4c6b-92a8-8fa039ade4eb",
   "metadata": {},
   "outputs": [
    {
     "name": "stdin",
     "output_type": "stream",
     "text": [
      "Enter your age: 17\n",
      "Enter your credit score: 897\n",
      "Enter your annual income: 50000\n"
     ]
    },
    {
     "name": "stdout",
     "output_type": "stream",
     "text": [
      "Not eligible for loan\n"
     ]
    }
   ],
   "source": [
    "#Q1. Write program to check a person’s eligibility for a loan based on age, credit score, and income. This time, the\n",
    "#eligibility criteria will be:\n",
    "\n",
    "#The person must be 18 years or older. The person must have a credit score of 650 or higher. The person must have\n",
    "#an annual income of at least 30000 dollars If the person has a credit score of 700 or higher, they may still be eligible\n",
    "#with an income of 25000 dollars or more.\n",
    "\n",
    "age = int(input(\"Enter your age:\"))\n",
    "credit_score = int(input(\"Enter your credit score:\"))\n",
    "annual_income = int(input(\"Enter your annual income:\"))\n",
    "if age >=18:\n",
    "    if credit_score >=650 and annual_income >= 30000:\n",
    "          print(\"Eligible for loan\")\n",
    "    elif credit_score >= 700 and annual_incomme >= 25000:\n",
    "          print(\"Eligible for loan\")\n",
    "    else:\n",
    "        print(\"Not eligible for loan\")\n",
    "else:\n",
    "    print(\"Not eligible for loan\")\n",
    "            "
   ]
  },
  {
   "cell_type": "code",
   "execution_count": 29,
   "id": "6e26b91a-0fb4-45b2-abcf-2fe0fbf18df4",
   "metadata": {},
   "outputs": [
    {
     "name": "stdin",
     "output_type": "stream",
     "text": [
      "Enter your age: 17\n"
     ]
    },
    {
     "name": "stdout",
     "output_type": "stream",
     "text": [
      "you are underage\n"
     ]
    }
   ],
   "source": [
    "#Q2. Write a Python program that checks if a person is an adult (age ≥ 18).\n",
    "\n",
    "#Take the age as input.\n",
    "#If the person is underage (age &lt; 18), show message: &quot;You are underage&quot; and don&#39;t ask for experience.\n",
    "\n",
    "#If the person is an adult, take years of experience as input and print:\n",
    "#&quot;You have a lot of experience.&quot; (10+ years)\n",
    "#&quot;You have moderate experience.&quot; (5-9 years)\n",
    "#&quot;You are relatively new.&quot; (2-4 years)\n",
    "#&quot;You are just starting out.&quot; (less than 2 years)\n",
    "\n",
    "age = int(input(\"Enter your age:\"))\n",
    "if age < 18:\n",
    "    print(\"you are underage\")\n",
    "else:\n",
    "    experience = int(input(\"Enter your experience\"))\n",
    "    if experience >=10:\n",
    "        print(\"You have a lot of experience\")\n",
    "    elif  experience >=5:\n",
    "        print(\"You have moderate experience\")\n",
    "    elif experience >=2:\n",
    "        print(\"You are relatively new\")\n",
    "    else:\n",
    "        print(\"You are just starting out\")\n"
   ]
  },
  {
   "cell_type": "code",
   "execution_count": 31,
   "id": "eef59ab2-57d4-4316-9c4d-448e4e7dcddd",
   "metadata": {},
   "outputs": [
    {
     "name": "stdin",
     "output_type": "stream",
     "text": [
      "Enter your age: 19\n",
      "Enter your experience 7\n"
     ]
    },
    {
     "name": "stdout",
     "output_type": "stream",
     "text": [
      "You have moderate experience\n"
     ]
    }
   ],
   "source": [
    "age = int(input(\"Enter your age:\"))\n",
    "if age < 18:\n",
    "    print(\"you are underage\")\n",
    "else:\n",
    "    experience = int(input(\"Enter your experience\"))\n",
    "    if experience >=10:\n",
    "        print(\"You have a lot of experience\")\n",
    "    elif  experience >=5:\n",
    "        print(\"You have moderate experience\")\n",
    "    elif experience >=2:\n",
    "        print(\"You are relatively new\")\n",
    "    else:\n",
    "        print(\"You are just starting out\")"
   ]
  },
  {
   "cell_type": "code",
   "execution_count": 43,
   "id": "27d7f753-4c9b-4f40-8e67-866a5e97c6eb",
   "metadata": {},
   "outputs": [
    {
     "name": "stdout",
     "output_type": "stream",
     "text": [
      "140734173558296\n",
      "1837243981904\n",
      "1837244042672\n",
      "28 bytes\n",
      "24 bytes\n",
      "50 bytes\n",
      "floating type have least memory\n"
     ]
    }
   ],
   "source": [
    "#Q3. Write a program to explore below variables\n",
    "\n",
    "#a) Print their memory address (to check if python assigns same address of different variables having same element)\n",
    "#b) Find memory size and append them in a list, use this list to find data type having least memory size\n",
    "#c) Print final name of data type which has lowest memory\n",
    "#Result will help a programmer to decide which variable is storing less memory and variable locations\n",
    "\n",
    "a = 100\n",
    "b = 200.0\n",
    "c = \"Atif khan\"\n",
    "print(id(a))\n",
    "print(id(b))\n",
    "print(id(c))\n",
    "import sys\n",
    "print(sys.getsizeof(a),\"bytes\")\n",
    "print(sys.getsizeof(b),\"bytes\")\n",
    "print(sys.getsizeof(c),\"bytes\")\n",
    "\n",
    "\n",
    "print(\"floating type have least memory\")\n"
   ]
  },
  {
   "cell_type": "code",
   "execution_count": 45,
   "id": "c56e2294-3873-4808-954f-971ff31cfd53",
   "metadata": {},
   "outputs": [
    {
     "name": "stdin",
     "output_type": "stream",
     "text": [
      "Enter your email address: atifcreative1@gmail.com\n"
     ]
    },
    {
     "name": "stdout",
     "output_type": "stream",
     "text": [
      "Email format is valid\n"
     ]
    }
   ],
   "source": [
    "#Q4. Write a Python program that asks the user to enter an email address. The program should check if the email\n",
    "#contains the characters @ and &quot;.&quot; (ignoring case). If either character is present, print &quot;Email format is valid.&quot;\n",
    "#Otherwise, print &quot;Invalid email format.&quot;\n",
    "\n",
    "email_address = input(\"Enter your email address:\")\n",
    "if \"@\" in email_address and \".\" in email_address:\n",
    "    print(\"Email format is valid\")\n",
    "else:\n",
    "    print(\"Email format is not valid\")"
   ]
  },
  {
   "cell_type": "code",
   "execution_count": 7,
   "id": "f4f9b71b-68a8-41bd-94f2-6c169ae5f3c4",
   "metadata": {},
   "outputs": [
    {
     "name": "stdout",
     "output_type": "stream",
     "text": [
      "['int', 'float', 'str', 'list', 'tuple']\n"
     ]
    }
   ],
   "source": [
    "#Q5. Write a python program to know data type of each element stored in a tuple, append the data types in a list.\n",
    "#Show final output in a list as data types of tuple elements\n",
    "#x = (11,22.333,&#39;apple&#39;,[1,2,3],(&#39;a&#39;,&#39;b&#39;))\n",
    "x = (11, 22.333, 'apple', [1, 2, 3], ('a', 'b'))\n",
    "data_types = []\n",
    "for element in x:\n",
    " data_types.append(type(element).__name__)\n",
    "print(data_types)\n",
    "\n"
   ]
  },
  {
   "cell_type": "code",
   "execution_count": 1,
   "id": "d2618f8c-4a14-4b55-a944-f35c738c1d0a",
   "metadata": {},
   "outputs": [
    {
     "name": "stdin",
     "output_type": "stream",
     "text": [
      "Enter the username:  bob\n"
     ]
    },
    {
     "name": "stdout",
     "output_type": "stream",
     "text": [
      "bob exists in the list of active users.\n",
      "bob is not the admin.\n"
     ]
    }
   ],
   "source": [
    "#Q6. Write a Python program that:\n",
    "active_users = [(\"alice\", \"admin\"), (\"bob\", \"user\"), (\"charlie\", \"moderator\")]\n",
    "username = input(\"Enter the username: \")\n",
    "user_exists = any(user[0] == username for user in active_users)\n",
    "if user_exists:\n",
    "    print(f\"{username} exists in the list of active users.\")\n",
    "    is_admin = (username, \"admin\") in active_users\n",
    "    if is_admin:\n",
    "        print(f\"{username} is the admin.\")\n",
    "    else:\n",
    "        print(f\"{username} is not the admin.\")\n",
    "else:\n",
    "    print(f\"{username} does not exist in the list of active users.\")\n"
   ]
  },
  {
   "cell_type": "code",
   "execution_count": 5,
   "id": "5af464c5-251f-4c2e-bfa3-c58781c2d872",
   "metadata": {},
   "outputs": [
    {
     "name": "stdout",
     "output_type": "stream",
     "text": [
      "No direct relation.\n"
     ]
    }
   ],
   "source": [
    "#Q7. Relation Check Between People python\n",
    "\n",
    "person1 = ['John', 'Mary', 'District1']\n",
    "person2 = ['John', 'Mary', 'District1']\n",
    "person3 = ['Tom', 'Jane', 'District2']\n",
    "\n",
    "if person1 is person2:\n",
    "    print(\"Relation: Siblings\")\n",
    "elif person1 is person3:\n",
    "    print(\"Relation: Cousin\")\n",
    "else:\n",
    "    print(\"No direct relation.\")"
   ]
  },
  {
   "cell_type": "code",
   "execution_count": 17,
   "id": "b0bfda59-0d43-4861-8f56-3a91772f6dd0",
   "metadata": {},
   "outputs": [
    {
     "name": "stdin",
     "output_type": "stream",
     "text": [
      "Enter the book title:  Ric Dad Poor Dad\n",
      "Enter the author:  Robert Kiyosaki\n",
      "Enter the year of publication:  1997\n",
      "Enter the price:  10000\n"
     ]
    },
    {
     "name": "stdout",
     "output_type": "stream",
     "text": [
      "Book Details:\n",
      "Title: Ric Dad Poor Dad\n",
      "Author: Robert Kiyosaki\n",
      "Year of Publication: 1997\n",
      "Price: 10000.0\n"
     ]
    }
   ],
   "source": [
    "#Q8. Store and Display Book Information python\n",
    "\n",
    "title = input(\"Enter the book title: \")\n",
    "author = input(\"Enter the author: \")\n",
    "year = int(input(\"Enter the year of publication: \"))\n",
    "price = float(input(\"Enter the price: \"))\n",
    "\n",
    "book_details = (title, author, year, price)\n",
    "print(\"Book Details:\")\n",
    "print(\"Title:\", book_details[0])\n",
    "print(\"Author:\", book_details[1])\n",
    "print(\"Year of Publication:\", book_details[2])\n",
    "print(\"Price:\", book_details[3])"
   ]
  },
  {
   "cell_type": "code",
   "execution_count": 25,
   "id": "79e38ba8-1438-4f6c-b5de-8e58cb4ab648",
   "metadata": {},
   "outputs": [
    {
     "name": "stdin",
     "output_type": "stream",
     "text": [
      "Enter the subject you want to check:  Chemistry\n"
     ]
    },
    {
     "name": "stdout",
     "output_type": "stream",
     "text": [
      "Chemistry is available.\n"
     ]
    }
   ],
   "source": [
    "#Q9. Check Subject Availability python\n",
    "\n",
    "offered_subjects = [\"Math\", \"Physics\", \"Chemistry\", \"Biology\", \"English\"]\n",
    "chosen_subject = input(\"Enter the subject you want to check: \")\n",
    "\n",
    "if chosen_subject in offered_subjects:\n",
    "    print(f\"{chosen_subject} is available.\")\n",
    "else:\n",
    "    print(f\"{chosen_subject} is not available.\")"
   ]
  },
  {
   "cell_type": "code",
   "execution_count": 27,
   "id": "ab1241d1-f6da-4ce6-aafa-c54b8cabd097",
   "metadata": {},
   "outputs": [
    {
     "name": "stdout",
     "output_type": "stream",
     "text": [
      "Tuple: (1, 2, 3, 2, 4, 5, 2, 6)\n"
     ]
    },
    {
     "name": "stdin",
     "output_type": "stream",
     "text": [
      "Enter a number to find its first occurrence:  5\n"
     ]
    },
    {
     "name": "stdout",
     "output_type": "stream",
     "text": [
      "First occurrence of 5 is at index 5.\n"
     ]
    },
    {
     "name": "stdin",
     "output_type": "stream",
     "text": [
      "Enter another number to count its occurrences:  6\n"
     ]
    },
    {
     "name": "stdout",
     "output_type": "stream",
     "text": [
      "6 appears 1 times in the tuple.\n"
     ]
    }
   ],
   "source": [
    "#Q10. Tuple Operations python\n",
    "\n",
    "numbers = (1, 2, 3, 2, 4, 5, 2, 6)\n",
    "print(\"Tuple:\", numbers)\n",
    "\n",
    "num1 = int(input(\"Enter a number to find its first occurrence: \"))\n",
    "if num1 in numbers:\n",
    "    index = numbers.index(num1)\n",
    "    print(f\"First occurrence of {num1} is at index {index}.\")\n",
    "else:\n",
    "    print(f\"{num1} is not in the tuple.\")\n",
    "\n",
    "num2 = int(input(\"Enter another number to count its occurrences: \"))\n",
    "count = numbers.count(num2)\n",
    "print(f\"{num2} appears {count} times in the tuple.\")"
   ]
  },
  {
   "cell_type": "code",
   "execution_count": null,
   "id": "8a4c28ef-3181-4d3c-a978-f67f92aaa036",
   "metadata": {},
   "outputs": [],
   "source": [
    " #Check Temperature\n",
    "\n",
    "temperature = float(input(\"Enter the current temperature in Celsius: \"))\n",
    "\n",
    "if temperature <= -5:\n",
    "    print(\"It's freezing.\")\n",
    "elif temperature <= 25:\n",
    "    print(\"It's normal.\")\n",
    "else:\n",
    "    print(\"It's hot.\")"
   ]
  },
  {
   "cell_type": "code",
   "execution_count": null,
   "id": "939936c7-3489-4a9b-85ec-bec26f410f1b",
   "metadata": {},
   "outputs": [],
   "source": []
  }
 ],
 "metadata": {
  "kernelspec": {
   "display_name": "Python 3 (ipykernel)",
   "language": "python",
   "name": "python3"
  },
  "language_info": {
   "codemirror_mode": {
    "name": "ipython",
    "version": 3
   },
   "file_extension": ".py",
   "mimetype": "text/x-python",
   "name": "python",
   "nbconvert_exporter": "python",
   "pygments_lexer": "ipython3",
   "version": "3.12.7"
  }
 },
 "nbformat": 4,
 "nbformat_minor": 5
}
